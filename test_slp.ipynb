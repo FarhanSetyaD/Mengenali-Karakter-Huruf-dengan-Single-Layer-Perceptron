{
 "cells": [
  {
   "cell_type": "code",
   "execution_count": null,
   "metadata": {
    "collapsed": true
   },
   "outputs": [],
   "source": [
    "from network import SLP\n",
    "import numpy as np\n",
    "\n",
    "\n",
    "data = np.array([[1,1],[1,0],[0,1],[0,0]])\n",
    "target = np.array([1,-1,-1,-1])\n",
    "threshold = 0.2\n",
    "\n",
    "slp = SLP(2)\n",
    "slp.train(data,target,1,threshold)\n",
    "\n",
    "(bobot,bias)=slp.get_weight()\n",
    "print(bobot)\n",
    "print(bias)\n",
    "\n",
    "#uji dengan menggunakan data latih, bandingkan hasilnya dengan target\n",
    "for data_uji in data:\n",
    "    hasil_uji = slp.test(bobot,bias,data_uji,threshold)\n",
    "    print(hasil_uji)"
   ]
  }
 ],
 "metadata": {
  "kernelspec": {
   "display_name": "Python 3",
   "language": "python",
   "name": "python3"
  },
  "language_info": {
   "codemirror_mode": {
    "name": "ipython",
    "version": 3
   },
   "file_extension": ".py",
   "mimetype": "text/x-python",
   "name": "python",
   "nbconvert_exporter": "python",
   "pygments_lexer": "ipython3",
   "version": "3.6.1"
  }
 },
 "nbformat": 4,
 "nbformat_minor": 2
}
