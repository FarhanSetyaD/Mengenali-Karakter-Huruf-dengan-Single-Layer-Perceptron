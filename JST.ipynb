{
 "cells": [
  {
   "cell_type": "code",
   "execution_count": 39,
   "metadata": {},
   "outputs": [
    {
     "name": "stdout",
     "output_type": "stream",
     "text": [
      "[-1 -1 -1  1 -1 -1 -1 -1 -1  1  1  1 -1 -1 -1  1  1 -1  1  1 -1  1  1 -1\n",
      " -1 -1  1  1  1  1  1  1  1  1  1  1 -1 -1 -1 -1 -1  1  1 -1 -1 -1 -1 -1\n",
      "  1]\n"
     ]
    }
   ],
   "source": [
    "import numpy as np\n",
    "\n",
    "def huruf2array(huruf):\n",
    "    huruf=huruf.replace(\"#\",\"1,\")\n",
    "    huruf=huruf.replace(\".\",\"-1,\")\n",
    "    huruf=huruf.replace(\"\\n\",'')\n",
    "    arr = np.fromstring(huruf[:-1],dtype=int,sep=',')\n",
    "    return arr\n",
    "\n",
    "'''Test method huruf2array'''\n",
    "file = open(\"data/huruf_a.txt\", 'r')\n",
    "x = file.read()\n",
    "file.close()\n",
    "\n",
    "print(huruf2array(x))"
   ]
  },
  {
   "cell_type": "code",
   "execution_count": 227,
   "metadata": {},
   "outputs": [],
   "source": [
    "class SLP(object):\n",
    "    def __init__(self,size,np_size):\n",
    "        self.weight = np.zeros((size,np_size))\n",
    "        self.bias = np.zeros(size)\n",
    "\n",
    "    def train(self,train_data,train_target,threshold):\n",
    "        stop = False\n",
    "        while stop is False:\n",
    "            stop = True\n",
    "            v = np.zeros(len(train_target))\n",
    "            y = np.zeros(len(train_target))\n",
    "            for i in range(len(train_data[0])):\n",
    "                for j in range(len(train_target)):\n",
    "                    v[j] = np.dot(train_data[j],self.weight[j])+ self.bias[j]\n",
    "                    y[j] = self.aktivasi(v[j],threshold)\n",
    "                    if y[j] != train_target[i][j]:\n",
    "                        stop = False\n",
    "                        self.weight[i][j] = self.weight[i][j] + train_target[j] * train_data[j][i]\n",
    "                        self.bias[j] = self.bias[j] + train_target[j]\n",
    "    #             for i in range(len(train_data)):\n",
    "#                 for j in range(len(train_target)):\n",
    "#                     v= train_data[i] * self.weight[i][j]+ self.bias\n",
    "# #                     v = np.dot()\n",
    "#                     y= self.aktivasi(v,threshold)\n",
    "#                     if y[j] != train_target[i][j]:\n",
    "#                         stop = False\n",
    "#                         self.weight = self.weight + alpha * train_target[i][j] * train_data\n",
    "#                         self.bias = self.bias + alpha * train_target[i][j]\n",
    "\n",
    "    def test(self,weight,bias,test_data,threshold):\n",
    "        v = np.dot(test_data,self.weight)+ self.bias\n",
    "        y = self.aktivasi(v,threshold)\n",
    "        return y\n",
    "\n",
    "    def aktivasi(self,x,threshold):\n",
    "        if x>threshold:\n",
    "            return 1\n",
    "        if x < -threshold:\n",
    "            return -1\n",
    "        else:\n",
    "            return 0\n",
    "\n",
    "    def get_weight(self):\n",
    "        return (self.weight,self.bias)"
   ]
  },
  {
   "cell_type": "code",
   "execution_count": 217,
   "metadata": {},
   "outputs": [
    {
     "data": {
      "text/plain": [
       "'class SLP():\\n   def __init__(self, size):\\n        self.weight = np.zeros(size)\\n        self.bias = 0\\n    \\n    def fungsi_aktivasi(self, v, threshold):\\n        if v > threshold:\\n            return 1\\n        elif threshold >= v and v >= -(threshold):\\n            return 0\\n        else:\\n            return -1\\n'"
      ]
     },
     "execution_count": 217,
     "metadata": {},
     "output_type": "execute_result"
    }
   ],
   "source": [
    "'''class SLP():\n",
    "   def __init__(self, size):\n",
    "        self.weight = np.zeros(size)\n",
    "        self.bias = 0\n",
    "    \n",
    "    def fungsi_aktivasi(self, v, threshold):\n",
    "        if v > threshold:\n",
    "            return 1\n",
    "        elif threshold >= v and v >= -(threshold):\n",
    "            return 0\n",
    "        else:\n",
    "            return -1\n",
    "'''"
   ]
  },
  {
   "cell_type": "code",
   "execution_count": 202,
   "metadata": {},
   "outputs": [
    {
     "name": "stdout",
     "output_type": "stream",
     "text": [
      "[[ 1 -1 -1 -1 -1 -1 -1]\n",
      " [-1  1 -1 -1 -1 -1 -1]\n",
      " [-1 -1  1 -1 -1 -1 -1]\n",
      " [-1 -1 -1  1 -1 -1 -1]\n",
      " [-1 -1 -1 -1  1 -1 -1]\n",
      " [-1 -1 -1 -1 -1  1 -1]\n",
      " [-1 -1 -1 -1 -1 -1  1]]\n"
     ]
    }
   ],
   "source": [
    "#Data Target\n",
    "huruf_a = [ 1 if i == 0 else -1 for i in range(7) ]\n",
    "huruf_b = [ 1 if i == 1 else -1 for i in range(7) ]\n",
    "huruf_c = [ 1 if i == 2 else -1 for i in range(7) ]\n",
    "huruf_d = [ 1 if i == 3 else -1 for i in range(7) ]\n",
    "huruf_e = [ 1 if i == 4 else -1 for i in range(7) ]\n",
    "huruf_j = [ 1 if i == 5 else -1 for i in range(7) ]\n",
    "huruf_k = [ 1 if i == 6 else -1 for i in range(7) ]\n",
    "\n",
    "# dataTrain = huruf_a + huruf_b + huruf_c + huruf_d + huruf_e + huruf_j + huruf_k\n",
    "dataTrain = [huruf_a, huruf_b, huruf_c, huruf_d, huruf_e, huruf_j, huruf_k]\n",
    "\n",
    "np_dataTrain=np.array(dataTrain)\n",
    "print(np_dataTrain)\n",
    "#dibikin perindexdari tiap huruf\n",
    "#print(huruf_a)\n",
    "#print(huruf_b)"
   ]
  },
  {
   "cell_type": "code",
   "execution_count": 203,
   "metadata": {},
   "outputs": [
    {
     "name": "stdout",
     "output_type": "stream",
     "text": [
      "[[-1 -1 -1  1 -1 -1 -1 -1 -1  1  1  1 -1 -1 -1  1  1 -1  1  1 -1  1  1 -1\n",
      "  -1 -1  1  1  1  1  1  1  1  1  1  1 -1 -1 -1 -1 -1  1  1 -1 -1 -1 -1 -1\n",
      "   1]\n",
      " [ 1  1  1  1  1  1 -1  1 -1 -1 -1 -1 -1  1  1 -1 -1 -1 -1 -1  1  1  1  1\n",
      "   1  1  1 -1  1 -1 -1 -1 -1 -1  1  1 -1 -1 -1 -1 -1  1  1  1  1  1  1  1\n",
      "  -1]\n",
      " [-1  1  1  1  1  1  1  1 -1 -1 -1 -1 -1 -1  1 -1 -1 -1 -1 -1 -1  1 -1 -1\n",
      "  -1 -1 -1 -1  1 -1 -1 -1 -1 -1 -1  1 -1 -1 -1 -1 -1 -1 -1  1  1  1  1  1\n",
      "   1]\n",
      " [ 1  1  1  1  1  1 -1  1 -1 -1 -1 -1 -1  1  1 -1 -1 -1 -1 -1  1  1 -1 -1\n",
      "  -1 -1 -1  1  1 -1 -1 -1 -1 -1  1  1 -1 -1 -1 -1 -1  1  1  1  1  1  1  1\n",
      "  -1]\n",
      " [ 1  1  1  1  1  1  1  1 -1 -1 -1 -1 -1 -1  1 -1 -1 -1 -1 -1 -1  1  1  1\n",
      "   1  1  1 -1  1 -1 -1 -1 -1 -1 -1  1 -1 -1 -1 -1 -1 -1  1  1  1  1  1  1\n",
      "   1]\n",
      " [ 1  1  1  1  1  1  1 -1 -1 -1  1  1 -1 -1 -1 -1 -1  1  1 -1 -1 -1 -1 -1\n",
      "   1  1 -1 -1 -1 -1 -1  1  1 -1 -1  1 -1 -1  1  1 -1 -1 -1  1  1  1 -1 -1\n",
      "  -1]\n",
      " [ 1 -1 -1 -1 -1 -1  1  1 -1 -1 -1 -1  1 -1  1 -1 -1 -1  1 -1 -1  1  1  1\n",
      "   1 -1 -1 -1  1 -1 -1 -1  1 -1 -1  1 -1 -1 -1 -1  1 -1  1 -1 -1 -1 -1 -1\n",
      "   1]]\n"
     ]
    }
   ],
   "source": [
    "# Read all data\n",
    "file = open(\"data/list_data_latih.txt\", 'r')\n",
    "listDataLatih = file.read()\n",
    "file.close()\n",
    "\n",
    "listDataLatih = listDataLatih.replace(\"\\n\", \",\")\n",
    "arrDataLatih = listDataLatih.split(',')\n",
    "\n",
    "# create data latih in numpy array\n",
    "dataLatih = []\n",
    "for namafile in arrDataLatih:\n",
    "    file = open(\"data/\" + namafile, 'r')\n",
    "    huruf = file.read()\n",
    "    dataLatih.append(huruf2array(huruf))\n",
    "    \n",
    "dataLatih = np.array(dataLatih)\n",
    "print((dataLatih))"
   ]
  },
  {
   "cell_type": "code",
   "execution_count": 228,
   "metadata": {},
   "outputs": [
    {
     "name": "stdout",
     "output_type": "stream",
     "text": [
      "[[ 1 -1 -1 -1 -1 -1 -1]\n",
      " [-1  1 -1 -1 -1 -1 -1]\n",
      " [-1 -1  1 -1 -1 -1 -1]\n",
      " [-1 -1 -1  1 -1 -1 -1]\n",
      " [-1 -1 -1 -1  1 -1 -1]\n",
      " [-1 -1 -1 -1 -1  1 -1]\n",
      " [-1 -1 -1 -1 -1 -1  1]]\n"
     ]
    },
    {
     "ename": "ValueError",
     "evalue": "setting an array element with a sequence.",
     "output_type": "error",
     "traceback": [
      "\u001b[0;31m---------------------------------------------------------------------------\u001b[0m",
      "\u001b[0;31mValueError\u001b[0m                                Traceback (most recent call last)",
      "\u001b[0;32m<ipython-input-228-8f85beaca9ff>\u001b[0m in \u001b[0;36m<module>\u001b[0;34m()\u001b[0m\n\u001b[1;32m      6\u001b[0m \u001b[0mprint\u001b[0m\u001b[0;34m(\u001b[0m\u001b[0mtarget\u001b[0m\u001b[0;34m)\u001b[0m\u001b[0;34m\u001b[0m\u001b[0m\n\u001b[1;32m      7\u001b[0m \u001b[0mslp\u001b[0m \u001b[0;34m=\u001b[0m \u001b[0mSLP\u001b[0m\u001b[0;34m(\u001b[0m\u001b[0;36m7\u001b[0m\u001b[0;34m,\u001b[0m\u001b[0;36m49\u001b[0m\u001b[0;34m)\u001b[0m\u001b[0;34m\u001b[0m\u001b[0m\n\u001b[0;32m----> 8\u001b[0;31m \u001b[0mslp\u001b[0m\u001b[0;34m.\u001b[0m\u001b[0mtrain\u001b[0m\u001b[0;34m(\u001b[0m\u001b[0mdata\u001b[0m\u001b[0;34m,\u001b[0m\u001b[0mtarget\u001b[0m\u001b[0;34m,\u001b[0m\u001b[0mthreshold\u001b[0m\u001b[0;34m)\u001b[0m\u001b[0;34m\u001b[0m\u001b[0m\n\u001b[0m\u001b[1;32m      9\u001b[0m \u001b[0;34m\u001b[0m\u001b[0m\n\u001b[1;32m     10\u001b[0m \u001b[0;34m(\u001b[0m\u001b[0mbobot\u001b[0m\u001b[0;34m,\u001b[0m\u001b[0mbias\u001b[0m\u001b[0;34m)\u001b[0m\u001b[0;34m=\u001b[0m\u001b[0mslp\u001b[0m\u001b[0;34m.\u001b[0m\u001b[0mget_weight\u001b[0m\u001b[0;34m(\u001b[0m\u001b[0;34m)\u001b[0m\u001b[0;34m\u001b[0m\u001b[0m\n",
      "\u001b[0;32m<ipython-input-227-043f9f2d78dd>\u001b[0m in \u001b[0;36mtrain\u001b[0;34m(self, train_data, train_target, threshold)\u001b[0m\n\u001b[1;32m     16\u001b[0m                     \u001b[0;32mif\u001b[0m \u001b[0my\u001b[0m\u001b[0;34m[\u001b[0m\u001b[0mj\u001b[0m\u001b[0;34m]\u001b[0m \u001b[0;34m!=\u001b[0m \u001b[0mtrain_target\u001b[0m\u001b[0;34m[\u001b[0m\u001b[0mi\u001b[0m\u001b[0;34m]\u001b[0m\u001b[0;34m[\u001b[0m\u001b[0mj\u001b[0m\u001b[0;34m]\u001b[0m\u001b[0;34m:\u001b[0m\u001b[0;34m\u001b[0m\u001b[0m\n\u001b[1;32m     17\u001b[0m                         \u001b[0mstop\u001b[0m \u001b[0;34m=\u001b[0m \u001b[0;32mFalse\u001b[0m\u001b[0;34m\u001b[0m\u001b[0m\n\u001b[0;32m---> 18\u001b[0;31m                         \u001b[0mself\u001b[0m\u001b[0;34m.\u001b[0m\u001b[0mweight\u001b[0m\u001b[0;34m[\u001b[0m\u001b[0mi\u001b[0m\u001b[0;34m]\u001b[0m\u001b[0;34m[\u001b[0m\u001b[0mj\u001b[0m\u001b[0;34m]\u001b[0m \u001b[0;34m=\u001b[0m \u001b[0mself\u001b[0m\u001b[0;34m.\u001b[0m\u001b[0mweight\u001b[0m\u001b[0;34m[\u001b[0m\u001b[0mi\u001b[0m\u001b[0;34m]\u001b[0m\u001b[0;34m[\u001b[0m\u001b[0mj\u001b[0m\u001b[0;34m]\u001b[0m \u001b[0;34m+\u001b[0m \u001b[0mtrain_target\u001b[0m\u001b[0;34m[\u001b[0m\u001b[0mj\u001b[0m\u001b[0;34m]\u001b[0m \u001b[0;34m*\u001b[0m \u001b[0mtrain_data\u001b[0m\u001b[0;34m[\u001b[0m\u001b[0mj\u001b[0m\u001b[0;34m]\u001b[0m\u001b[0;34m[\u001b[0m\u001b[0mi\u001b[0m\u001b[0;34m]\u001b[0m\u001b[0;34m\u001b[0m\u001b[0m\n\u001b[0m\u001b[1;32m     19\u001b[0m                         \u001b[0mself\u001b[0m\u001b[0;34m.\u001b[0m\u001b[0mbias\u001b[0m\u001b[0;34m[\u001b[0m\u001b[0mj\u001b[0m\u001b[0;34m]\u001b[0m \u001b[0;34m=\u001b[0m \u001b[0mself\u001b[0m\u001b[0;34m.\u001b[0m\u001b[0mbias\u001b[0m\u001b[0;34m[\u001b[0m\u001b[0mj\u001b[0m\u001b[0;34m]\u001b[0m \u001b[0;34m+\u001b[0m \u001b[0mtrain_target\u001b[0m\u001b[0;34m[\u001b[0m\u001b[0mj\u001b[0m\u001b[0;34m]\u001b[0m\u001b[0;34m\u001b[0m\u001b[0m\n\u001b[1;32m     20\u001b[0m     \u001b[0;31m#             for i in range(len(train_data)):\u001b[0m\u001b[0;34m\u001b[0m\u001b[0;34m\u001b[0m\u001b[0m\n",
      "\u001b[0;31mValueError\u001b[0m: setting an array element with a sequence."
     ]
    }
   ],
   "source": [
    "#training data\n",
    "\n",
    "data = dataLatih\n",
    "target = np.array(dataTrain)\n",
    "threshold = 0.2\n",
    "print(target)\n",
    "slp = SLP(7,49)\n",
    "slp.train(data,target,threshold)\n",
    "\n",
    "(bobot,bias)=slp.get_weight()\n",
    "print(bobot)\n",
    "print(bias)"
   ]
  },
  {
   "cell_type": "code",
   "execution_count": 178,
   "metadata": {},
   "outputs": [
    {
     "ename": "ValueError",
     "evalue": "The truth value of an array with more than one element is ambiguous. Use a.any() or a.all()",
     "output_type": "error",
     "traceback": [
      "\u001b[0;31m---------------------------------------------------------------------------\u001b[0m",
      "\u001b[0;31mValueError\u001b[0m                                Traceback (most recent call last)",
      "\u001b[0;32m<ipython-input-178-16d66bb40279>\u001b[0m in \u001b[0;36m<module>\u001b[0;34m()\u001b[0m\n\u001b[1;32m      1\u001b[0m \u001b[0;32mfor\u001b[0m \u001b[0mdata_uji\u001b[0m \u001b[0;32min\u001b[0m \u001b[0mdata\u001b[0m\u001b[0;34m:\u001b[0m\u001b[0;34m\u001b[0m\u001b[0m\n\u001b[0;32m----> 2\u001b[0;31m     \u001b[0mhasil_uji\u001b[0m \u001b[0;34m=\u001b[0m \u001b[0mslp\u001b[0m\u001b[0;34m.\u001b[0m\u001b[0mtest\u001b[0m\u001b[0;34m(\u001b[0m\u001b[0mbobot\u001b[0m\u001b[0;34m,\u001b[0m\u001b[0mbias\u001b[0m\u001b[0;34m,\u001b[0m\u001b[0mdata_uji\u001b[0m\u001b[0;34m,\u001b[0m\u001b[0mthreshold\u001b[0m\u001b[0;34m)\u001b[0m\u001b[0;34m\u001b[0m\u001b[0m\n\u001b[0m\u001b[1;32m      3\u001b[0m     \u001b[0mprint\u001b[0m\u001b[0;34m(\u001b[0m\u001b[0mhasil_uji\u001b[0m\u001b[0;34m)\u001b[0m\u001b[0;34m\u001b[0m\u001b[0m\n",
      "\u001b[0;32m<ipython-input-173-c3120ef2fdcc>\u001b[0m in \u001b[0;36mtest\u001b[0;34m(self, weight, bias, test_data, threshold)\u001b[0m\n\u001b[1;32m     27\u001b[0m     \u001b[0;32mdef\u001b[0m \u001b[0mtest\u001b[0m\u001b[0;34m(\u001b[0m\u001b[0mself\u001b[0m\u001b[0;34m,\u001b[0m\u001b[0mweight\u001b[0m\u001b[0;34m,\u001b[0m\u001b[0mbias\u001b[0m\u001b[0;34m,\u001b[0m\u001b[0mtest_data\u001b[0m\u001b[0;34m,\u001b[0m\u001b[0mthreshold\u001b[0m\u001b[0;34m)\u001b[0m\u001b[0;34m:\u001b[0m\u001b[0;34m\u001b[0m\u001b[0m\n\u001b[1;32m     28\u001b[0m         \u001b[0mv\u001b[0m \u001b[0;34m=\u001b[0m \u001b[0mnp\u001b[0m\u001b[0;34m.\u001b[0m\u001b[0mdot\u001b[0m\u001b[0;34m(\u001b[0m\u001b[0mtest_data\u001b[0m\u001b[0;34m,\u001b[0m\u001b[0mself\u001b[0m\u001b[0;34m.\u001b[0m\u001b[0mweight\u001b[0m\u001b[0;34m)\u001b[0m\u001b[0;34m+\u001b[0m \u001b[0mself\u001b[0m\u001b[0;34m.\u001b[0m\u001b[0mbias\u001b[0m\u001b[0;34m\u001b[0m\u001b[0m\n\u001b[0;32m---> 29\u001b[0;31m         \u001b[0my\u001b[0m \u001b[0;34m=\u001b[0m \u001b[0mself\u001b[0m\u001b[0;34m.\u001b[0m\u001b[0maktivasi\u001b[0m\u001b[0;34m(\u001b[0m\u001b[0mv\u001b[0m\u001b[0;34m,\u001b[0m\u001b[0mthreshold\u001b[0m\u001b[0;34m)\u001b[0m\u001b[0;34m\u001b[0m\u001b[0m\n\u001b[0m\u001b[1;32m     30\u001b[0m         \u001b[0;32mreturn\u001b[0m \u001b[0my\u001b[0m\u001b[0;34m\u001b[0m\u001b[0m\n\u001b[1;32m     31\u001b[0m \u001b[0;34m\u001b[0m\u001b[0m\n",
      "\u001b[0;32m<ipython-input-173-c3120ef2fdcc>\u001b[0m in \u001b[0;36maktivasi\u001b[0;34m(self, x, threshold)\u001b[0m\n\u001b[1;32m     31\u001b[0m \u001b[0;34m\u001b[0m\u001b[0m\n\u001b[1;32m     32\u001b[0m     \u001b[0;32mdef\u001b[0m \u001b[0maktivasi\u001b[0m\u001b[0;34m(\u001b[0m\u001b[0mself\u001b[0m\u001b[0;34m,\u001b[0m\u001b[0mx\u001b[0m\u001b[0;34m,\u001b[0m\u001b[0mthreshold\u001b[0m\u001b[0;34m)\u001b[0m\u001b[0;34m:\u001b[0m\u001b[0;34m\u001b[0m\u001b[0m\n\u001b[0;32m---> 33\u001b[0;31m         \u001b[0;32mif\u001b[0m \u001b[0mx\u001b[0m\u001b[0;34m>\u001b[0m\u001b[0mthreshold\u001b[0m\u001b[0;34m:\u001b[0m\u001b[0;34m\u001b[0m\u001b[0m\n\u001b[0m\u001b[1;32m     34\u001b[0m             \u001b[0;32mreturn\u001b[0m \u001b[0;36m1\u001b[0m\u001b[0;34m\u001b[0m\u001b[0m\n\u001b[1;32m     35\u001b[0m         \u001b[0;32mif\u001b[0m \u001b[0mx\u001b[0m \u001b[0;34m<\u001b[0m \u001b[0;34m-\u001b[0m\u001b[0mthreshold\u001b[0m\u001b[0;34m:\u001b[0m\u001b[0;34m\u001b[0m\u001b[0m\n",
      "\u001b[0;31mValueError\u001b[0m: The truth value of an array with more than one element is ambiguous. Use a.any() or a.all()"
     ]
    }
   ],
   "source": [
    "for data_uji in data:\n",
    "    hasil_uji = slp.test(bobot,bias,data_uji,threshold)\n",
    "    print(hasil_uji)"
   ]
  },
  {
   "cell_type": "code",
   "execution_count": null,
   "metadata": {},
   "outputs": [],
   "source": []
  },
  {
   "cell_type": "code",
   "execution_count": null,
   "metadata": {},
   "outputs": [],
   "source": []
  }
 ],
 "metadata": {
  "kernelspec": {
   "display_name": "Python 3",
   "language": "python",
   "name": "python3"
  },
  "language_info": {
   "codemirror_mode": {
    "name": "ipython",
    "version": 3
   },
   "file_extension": ".py",
   "mimetype": "text/x-python",
   "name": "python",
   "nbconvert_exporter": "python",
   "pygments_lexer": "ipython3",
   "version": "3.6.5"
  }
 },
 "nbformat": 4,
 "nbformat_minor": 2
}
