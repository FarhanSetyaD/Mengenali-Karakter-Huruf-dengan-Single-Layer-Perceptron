{
 "cells": [
  {
   "cell_type": "code",
   "execution_count": 7,
   "metadata": {},
   "outputs": [
    {
     "data": {
      "text/plain": [
       "'Test method huruf2array'"
      ]
     },
     "execution_count": 7,
     "metadata": {},
     "output_type": "execute_result"
    }
   ],
   "source": [
    "import numpy as np\n",
    "\n",
    "def huruf2array(huruf):\n",
    "    huruf=huruf.replace(\"#\",\"1,\")\n",
    "    huruf=huruf.replace(\".\",\"-1,\")\n",
    "    huruf=huruf.replace(\"\\n\",'')\n",
    "    arr = np.fromstring(huruf[:-1],dtype=int,sep=',')\n",
    "    return arr\n",
    "\n",
    "'''Test method huruf2array'''\n",
    "#file = open(\"data/huruf_a.txt\", 'r')\n",
    "#x = file.read()\n",
    "#file.close()\n",
    "\n",
    "#print(huruf2array(x))"
   ]
  },
  {
   "cell_type": "code",
   "execution_count": 24,
   "metadata": {},
   "outputs": [],
   "source": [
    "class SLP(object):\n",
    "    def __init__(self,size,np_size):\n",
    "        self.weight = np.zeros((size,np_size))\n",
    "        self.bias = np.zeros(size)\n",
    "\n",
    "    def train(self,train_data,train_target,threshold):\n",
    "        epoch = 1\n",
    "        stop = False\n",
    "        while stop is False:\n",
    "            print(\"epoch \", epoch)\n",
    "            stop = True\n",
    "            for i in range(len(train_data)): # 2\n",
    "                v = np.zeros(len(train_target))\n",
    "                y = np.zeros(len(train_target))\n",
    "                for j in range(len(train_target)): # 2\n",
    "                    v[j] = np.dot(train_data[i], self.weight[j]) + self.bias[j]\n",
    "                    y[j] = self.fungsi_aktivasi(v[j], threshold)\n",
    "                    if y[j] != train_target[i][j]:\n",
    "                        stop = False\n",
    "                        self.weight[j] = self.weight[j] + (train_target[i][j] * train_data[i])\n",
    "                        self.bias[j] = self.bias[j] + train_target[i][j]\n",
    "            epoch = epoch + 1\n",
    "            print(\"stop\", stop)\n",
    "\n",
    "    def test(self, test_data, threshold):\n",
    "        v = np.zeros(len(self.weight))\n",
    "        y = np.zeros(len(self.weight))\n",
    "        for i in range(len(self.weight)):\n",
    "            v[i] = np.dot(test_data, self.weight[i]) + self.bias[i]\n",
    "            y[i] = self.fungsi_aktivasi(v[i], threshold)\n",
    "        return y\n",
    "\n",
    "    def fungsi_aktivasi(self, v, threshold):\n",
    "        if v > threshold:\n",
    "            return 1\n",
    "        elif threshold >= v and v >= -(threshold):\n",
    "            return 0\n",
    "        else:\n",
    "            return -1\n",
    "\n",
    "    def get_weight(self):\n",
    "        return (self.weight,self.bias)"
   ]
  },
  {
   "cell_type": "code",
   "execution_count": null,
   "metadata": {},
   "outputs": [],
   "source": []
  },
  {
   "cell_type": "code",
   "execution_count": 25,
   "metadata": {},
   "outputs": [
    {
     "name": "stdout",
     "output_type": "stream",
     "text": [
      "[[ 1 -1 -1 -1 -1 -1 -1]\n",
      " [-1  1 -1 -1 -1 -1 -1]\n",
      " [-1 -1  1 -1 -1 -1 -1]\n",
      " [-1 -1 -1  1 -1 -1 -1]\n",
      " [-1 -1 -1 -1  1 -1 -1]\n",
      " [-1 -1 -1 -1 -1  1 -1]\n",
      " [-1 -1 -1 -1 -1 -1  1]]\n"
     ]
    }
   ],
   "source": [
    "#Data Target\n",
    "huruf_a = [ 1 if i == 0 else -1 for i in range(7) ]\n",
    "huruf_b = [ 1 if i == 1 else -1 for i in range(7) ]\n",
    "huruf_c = [ 1 if i == 2 else -1 for i in range(7) ]\n",
    "huruf_d = [ 1 if i == 3 else -1 for i in range(7) ]\n",
    "huruf_e = [ 1 if i == 4 else -1 for i in range(7) ]\n",
    "huruf_j = [ 1 if i == 5 else -1 for i in range(7) ]\n",
    "huruf_k = [ 1 if i == 6 else -1 for i in range(7) ]\n",
    "\n",
    "# dataTrain = huruf_a + huruf_b + huruf_c + huruf_d + huruf_e + huruf_j + huruf_k\n",
    "dataTrain = [huruf_a, huruf_b, huruf_c, huruf_d, huruf_e, huruf_j, huruf_k]\n",
    "\n",
    "np_dataTrain=np.array(dataTrain)\n",
    "print(np_dataTrain)\n",
    "#dibikin perindexdari tiap huruf\n",
    "#print(huruf_a)\n",
    "#print(huruf_b)"
   ]
  },
  {
   "cell_type": "code",
   "execution_count": 26,
   "metadata": {},
   "outputs": [
    {
     "name": "stdout",
     "output_type": "stream",
     "text": [
      "[[-1 -1  1  1 -1 -1 -1 -1 -1 -1  1 -1 -1 -1 -1 -1 -1  1 -1 -1 -1 -1 -1  1\n",
      "  -1  1 -1 -1 -1 -1  1 -1  1 -1 -1 -1  1  1  1  1  1 -1 -1  1 -1 -1 -1  1\n",
      "  -1 -1  1 -1 -1 -1  1 -1  1  1  1 -1  1  1  1]\n",
      " [ 1  1  1  1  1  1 -1 -1  1 -1 -1 -1 -1  1 -1  1 -1 -1 -1 -1  1 -1  1 -1\n",
      "  -1 -1 -1  1 -1  1  1  1  1  1 -1 -1  1 -1 -1 -1 -1  1 -1  1 -1 -1 -1 -1\n",
      "   1 -1  1 -1 -1 -1 -1  1  1  1  1  1  1  1 -1]\n",
      " [-1 -1  1  1  1  1  1 -1  1 -1 -1 -1 -1  1  1 -1 -1 -1 -1 -1 -1  1 -1 -1\n",
      "  -1 -1 -1 -1  1 -1 -1 -1 -1 -1 -1  1 -1 -1 -1 -1 -1 -1  1 -1 -1 -1 -1 -1\n",
      "  -1 -1  1 -1 -1 -1 -1  1 -1 -1  1  1  1  1 -1]\n",
      " [ 1  1  1  1  1 -1 -1 -1  1 -1 -1 -1  1 -1 -1  1 -1 -1 -1 -1  1 -1  1 -1\n",
      "  -1 -1 -1  1 -1  1 -1 -1 -1 -1  1 -1  1 -1 -1 -1 -1  1 -1  1 -1 -1 -1 -1\n",
      "   1 -1  1 -1 -1 -1  1 -1  1  1  1  1  1 -1 -1]\n",
      " [ 1  1  1  1  1  1  1 -1  1 -1 -1 -1 -1  1 -1  1 -1 -1 -1 -1 -1 -1  1 -1\n",
      "   1 -1 -1 -1 -1  1  1  1 -1 -1 -1 -1  1 -1  1 -1 -1 -1 -1  1 -1 -1 -1 -1\n",
      "  -1 -1  1 -1 -1 -1 -1  1  1  1  1  1  1  1  1]\n",
      " [-1 -1 -1  1  1  1  1 -1 -1 -1 -1 -1  1 -1 -1 -1 -1 -1 -1  1 -1 -1 -1 -1\n",
      "  -1 -1  1 -1 -1 -1 -1 -1 -1  1 -1 -1 -1 -1 -1 -1  1 -1 -1  1 -1 -1 -1  1\n",
      "  -1 -1  1 -1 -1 -1  1 -1 -1 -1  1  1  1 -1 -1]\n",
      " [ 1  1  1 -1 -1  1  1 -1  1 -1 -1  1 -1 -1 -1  1 -1  1 -1 -1 -1 -1  1  1\n",
      "  -1 -1 -1 -1 -1  1  1 -1 -1 -1 -1 -1  1 -1  1 -1 -1 -1 -1  1 -1 -1  1 -1\n",
      "  -1 -1  1 -1 -1 -1  1 -1  1  1  1 -1 -1  1  1]]\n"
     ]
    }
   ],
   "source": [
    "# Read all data\n",
    "file = open(\"data/list_data_latih.txt\", 'r')\n",
    "listDataLatih = file.read()\n",
    "file.close()\n",
    "\n",
    "listDataLatih = listDataLatih.replace(\"\\n\", \",\")\n",
    "arrDataLatih = listDataLatih.split(',')\n",
    "\n",
    "# create data latih in numpy array\n",
    "dataLatih = []\n",
    "for namafile in arrDataLatih:\n",
    "    file = open(\"data/\" + namafile, 'r')\n",
    "    huruf = file.read()\n",
    "    dataLatih.append(huruf2array(huruf))\n",
    "    \n",
    "dataLatih = np.array(dataLatih)\n",
    "print((dataLatih))"
   ]
  },
  {
   "cell_type": "code",
   "execution_count": 27,
   "metadata": {},
   "outputs": [
    {
     "name": "stdout",
     "output_type": "stream",
     "text": [
      "[[ 1 -1 -1 -1 -1 -1 -1]\n",
      " [-1  1 -1 -1 -1 -1 -1]\n",
      " [-1 -1  1 -1 -1 -1 -1]\n",
      " [-1 -1 -1  1 -1 -1 -1]\n",
      " [-1 -1 -1 -1  1 -1 -1]\n",
      " [-1 -1 -1 -1 -1  1 -1]\n",
      " [-1 -1 -1 -1 -1 -1  1]]\n",
      "epoch  1\n",
      "stop False\n",
      "epoch  2\n",
      "stop False\n",
      "epoch  3\n",
      "stop False\n",
      "epoch  4\n",
      "stop True\n",
      "bobot\n",
      "[[-1. -1.  1. -1. -3. -3. -1.  1. -1.  1.  3.  1. -1. -1.  1. -1.  1.  3.\n",
      "   1. -1. -1.  1. -1.  3.  1.  3. -1. -1.  1. -1.  1. -1.  1. -3.  1.  1.\n",
      "   1.  3.  3.  3.  1. -1.  1. -1.  1.  1.  1.  1. -1.  1. -1.  1.  1.  1.\n",
      "   1. -1.  1.  1. -1. -3. -1.  1.  3.]\n",
      " [ 2.  2. -2. -2.  0.  2. -2.  2.  0.  2.  0.  2.  0.  2.  0.  2.  2.  0.\n",
      "   2.  2.  4.  0.  2.  0.  0.  0.  2.  4.  0.  2.  2.  4.  4.  6.  0.  0.\n",
      "   0.  0. -2.  0.  0.  4.  0.  0.  2.  2.  2.  0.  4.  2. -2.  2.  2.  2.\n",
      "  -2.  2.  0.  0. -2.  0. -2.  0. -2.]\n",
      " [-1. -1. -1. -1.  1.  3.  3.  1.  1.  1. -1.  1. -1.  3.  3. -1.  1. -1.\n",
      "   1.  1. -1.  3. -1. -1.  1. -1.  1. -1.  3. -1. -1.  1. -1.  1. -1.  3.\n",
      "  -3. -1. -1. -1. -1. -1.  3. -3.  1.  1.  1. -1. -1.  1. -1.  1.  1.  1.\n",
      "  -3.  3. -3. -3. -1.  1. -1.  1. -1.]\n",
      " [ 1.  1. -1. -1.  1. -1. -1.  1.  1.  1. -1.  1.  3. -1.  1.  1.  1. -1.\n",
      "   1.  1.  3.  1.  1. -1. -1. -1.  1.  3.  1.  1. -3. -1. -1.  1.  3.  1.\n",
      "  -1. -1. -3. -1. -1.  3.  1. -1.  1.  1.  1. -1.  3.  1. -1.  1.  1.  1.\n",
      "   1. -1. -1. -1. -1.  1. -1. -3. -3.]\n",
      " [ 2.  2. -2.  0.  2.  0.  2.  2.  0.  2.  0.  0.  2.  2.  0.  2.  2. -2.\n",
      "   2.  2.  0.  0.  2. -2.  6.  0.  2.  0.  0.  2.  0.  4. -2.  0.  2.  0.\n",
      "   0.  0.  2.  0.  0.  0.  0.  0.  2.  2.  0.  0.  0.  2. -2.  2.  2.  2.\n",
      "  -2.  2.  0.  0. -2.  2.  0. -2.  2.]\n",
      " [ 0.  0. -4. -2.  0.  0.  2.  2. -2.  2.  0.  2.  4. -2.  0.  0.  2.  0.\n",
      "   2.  4.  0.  0.  0.  0.  2.  0.  4.  0.  0.  0. -2.  0. -2.  2.  2.  0.\n",
      "  -2.  0.  0.  0.  2.  0.  0.  0.  2.  2.  2.  2.  0.  2. -2.  2.  2.  2.\n",
      "   2. -2. -2. -2. -2.  0. -2. -4.  0.]\n",
      " [ 1.  1. -1. -3. -1.  1.  3.  1.  1.  1. -1.  3.  1. -1.  1.  1.  1.  1.\n",
      "   1.  1. -1.  1.  1.  1.  1. -1.  1. -1.  1.  1. -1. -1. -3. -1.  1.  1.\n",
      "  -1. -1.  1. -1. -1. -1.  1. -1.  1.  1.  3. -1. -1.  1. -1.  1.  1.  1.\n",
      "   1. -1. -1. -1. -1. -1. -3. -1.  1.]]\n",
      "bias\n",
      "[-1. -2. -1. -1. -2. -2. -1.]\n"
     ]
    }
   ],
   "source": [
    "#training data\n",
    "\n",
    "data = dataLatih\n",
    "target = np.array(dataTrain)\n",
    "threshold = 0.2\n",
    "print(target)\n",
    "slp = SLP(7,63)\n",
    "slp.train(data,target,threshold)\n",
    "\n",
    "(bobot,bias)=slp.get_weight()\n",
    "print(\"bobot\")\n",
    "print(bobot)\n",
    "print(\"bias\")\n",
    "print(bias)"
   ]
  },
  {
   "cell_type": "code",
   "execution_count": 28,
   "metadata": {},
   "outputs": [],
   "source": [
    "def cekHuruf(hasil):\n",
    "    if np.array_equal(hasil, np_dataTrain[0]):\n",
    "        return \"a\"\n",
    "    elif np.array_equal(hasil, np_dataTrain[1]):\n",
    "        return \"b\"\n",
    "    elif np.array_equal(hasil, np_dataTrain[2]):\n",
    "        return \"c\"\n",
    "    elif np.array_equal(hasil, np_dataTrain[3]):\n",
    "        return \"d\"\n",
    "    elif np.array_equal(hasil, np_dataTrain[4]):\n",
    "        return \"e\"\n",
    "    elif np.array_equal(hasil, np_dataTrain[5]):\n",
    "        return \"j\"\n",
    "    elif np.array_equal(hasil, np_dataTrain[6]):\n",
    "        return \"k\""
   ]
  },
  {
   "cell_type": "code",
   "execution_count": 45,
   "metadata": {},
   "outputs": [
    {
     "name": "stdout",
     "output_type": "stream",
     "text": [
      "data uji 0 : None\n",
      "data uji 1 : None\n",
      "data uji 2 : None\n",
      "data uji 3 : d\n",
      "data uji 4 : c\n",
      "data uji 5 : c\n",
      "data uji 6 : k\n"
     ]
    }
   ],
   "source": [
    "#data uji\n",
    "file = open(\"data/list_data_uji.txt\", 'r')\n",
    "dataset_uji = file.read()\n",
    "file.close()\n",
    "\n",
    "dataset_uji = dataset_uji.replace(\"\\n\", \",\")\n",
    "arrDataUji = dataset_uji.split(',')\n",
    "\n",
    "# create data latih in numpy array\n",
    "dataUji = []\n",
    "for namafile in arrDataUji:\n",
    "    file = open(\"data/\" + namafile, 'r')\n",
    "    huruf = file.read()\n",
    "    dataUji.append(huruf2array(huruf))\n",
    "    \n",
    "dataUji = np.array(dataUji)\n",
    "\n",
    "for index, data_uji in enumerate(dataUji):\n",
    "    print(\"data uji\", index, end=\" : \")\n",
    "    hasil_uji = slp.test(data_uji, threshold)\n",
    "    print(cekHuruf(hasil_uji))"
   ]
  }
 ],
 "metadata": {
  "kernelspec": {
   "display_name": "Python 3",
   "language": "python",
   "name": "python3"
  },
  "language_info": {
   "codemirror_mode": {
    "name": "ipython",
    "version": 3
   },
   "file_extension": ".py",
   "mimetype": "text/x-python",
   "name": "python",
   "nbconvert_exporter": "python",
   "pygments_lexer": "ipython3",
   "version": "3.7.0"
  }
 },
 "nbformat": 4,
 "nbformat_minor": 2
}
