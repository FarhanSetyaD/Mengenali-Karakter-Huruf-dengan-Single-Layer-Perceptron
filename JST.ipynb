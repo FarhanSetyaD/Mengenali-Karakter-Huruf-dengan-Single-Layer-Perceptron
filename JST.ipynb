{
 "cells": [
  {
   "cell_type": "code",
   "execution_count": 3,
   "metadata": {},
   "outputs": [
    {
     "name": "stdout",
     "output_type": "stream",
     "text": [
      "[-1 -1 -1  1 -1 -1 -1 -1 -1  1  1  1 -1 -1 -1  1  1 -1  1  1 -1  1  1 -1\n",
      " -1 -1  1  1  1  1  1  1  1  1  1  1 -1 -1 -1 -1 -1  1  1 -1 -1 -1 -1 -1\n",
      "  1]\n"
     ]
    }
   ],
   "source": [
    "import numpy as np\n",
    "\n",
    "def huruf2array(huruf):\n",
    "    huruf=huruf.replace(\"#\",\"1,\")\n",
    "    huruf=huruf.replace(\".\",\"-1,\")\n",
    "    huruf=huruf.replace(\"\\n\",'')\n",
    "    arr = np.fromstring(huruf[:-1],dtype=int,sep=',')\n",
    "    return arr\n",
    "\n",
    "'''Test method huruf2array'''\n",
    "file = open(\"data/huruf_a.txt\", 'r')\n",
    "x = file.read()\n",
    "file.close()\n",
    "\n",
    "print(huruf2array(x))"
   ]
  },
  {
   "cell_type": "code",
   "execution_count": 4,
   "metadata": {},
   "outputs": [],
   "source": [
    "class SLP(object):\n",
    "    def __init__(self,size):\n",
    "        self.weight = np.zeros(size)\n",
    "        self.bias = 0\n",
    "\n",
    "    def train(self,train_data,train_target,alpha,threshold):\n",
    "        stop = False\n",
    "        while stop is False:\n",
    "            stop = True\n",
    "            for data,target in zip(train_data,train_target):\n",
    "                v = np.dot(data,self.weight)+ self.bias\n",
    "                y = self.aktivasi(v,threshold)\n",
    "                if y != target:\n",
    "                    stop = False\n",
    "                    self.weight = self.weight + alpha * target * data\n",
    "                    self.bias = self.bias + alpha *target\n",
    "\n",
    "    def test(self,weight,bias,test_data,threshold):\n",
    "        v = np.dot(test_data,self.weight)+ self.bias\n",
    "        y = self.aktivasi(v,threshold)\n",
    "        return y\n",
    "\n",
    "    def aktivasi(self,x,threshold):\n",
    "        if x>threshold:\n",
    "            return 1\n",
    "        if x < -threshold:\n",
    "            return -1\n",
    "        else:\n",
    "            return 0\n",
    "\n",
    "    def get_weight(self):\n",
    "        return (self.weight,self.bias)"
   ]
  },
  {
   "cell_type": "code",
   "execution_count": null,
   "metadata": {},
   "outputs": [],
   "source": [
    "class SLP():\n",
    "    def __init__(self, size):\n",
    "        self.weight = np.zeros(size)\n",
    "        self.bias = 0\n",
    "    \n",
    "    def fungsi_aktivasi(self, v, threshold):\n",
    "        if v > threshold:\n",
    "            return 1\n",
    "        elif threshold >= v and v >= -(threshold)\n",
    "            return 0\n",
    "        else:\n",
    "            return -1"
   ]
  },
  {
   "cell_type": "code",
   "execution_count": 14,
   "metadata": {},
   "outputs": [
    {
     "name": "stdout",
     "output_type": "stream",
     "text": [
      "[1, -1, -1, -1, -1, -1, -1]\n"
     ]
    }
   ],
   "source": [
    "#Data Target\n",
    "huruf_a = [ 1 if i == 0 else -1 for i in range(7) ]\n",
    "huruf_b = [ 1 if i == 1 else -1 for i in range(7) ]\n",
    "huruf_c = [ 1 if i == 2 else -1 for i in range(7) ]\n",
    "huruf_d = [ 1 if i == 3 else -1 for i in range(7) ]\n",
    "huruf_e = [ 1 if i == 4 else -1 for i in range(7) ]\n",
    "huruf_j = [ 1 if i == 5 else -1 for i in range(7) ]\n",
    "huruf_k = [ 1 if i == 6 else -1 for i in range(7) ]\n",
    "\n",
    "print(huruf_a)"
   ]
  },
  {
   "cell_type": "code",
   "execution_count": 9,
   "metadata": {},
   "outputs": [
    {
     "name": "stdout",
     "output_type": "stream",
     "text": [
      "[[-1 -1 -1  1 -1 -1 -1 -1 -1  1  1  1 -1 -1 -1  1  1 -1  1  1 -1  1  1 -1\n",
      "  -1 -1  1  1  1  1  1  1  1  1  1  1 -1 -1 -1 -1 -1  1  1 -1 -1 -1 -1 -1\n",
      "   1]\n",
      " [ 1  1  1  1  1  1 -1  1 -1 -1 -1 -1 -1  1  1 -1 -1 -1 -1 -1  1  1  1  1\n",
      "   1  1  1 -1  1 -1 -1 -1 -1 -1  1  1 -1 -1 -1 -1 -1  1  1  1  1  1  1  1\n",
      "  -1]\n",
      " [-1  1  1  1  1  1  1  1 -1 -1 -1 -1 -1 -1  1 -1 -1 -1 -1 -1 -1  1 -1 -1\n",
      "  -1 -1 -1 -1  1 -1 -1 -1 -1 -1 -1  1 -1 -1 -1 -1 -1 -1 -1  1  1  1  1  1\n",
      "   1]\n",
      " [ 1  1  1  1  1  1 -1  1 -1 -1 -1 -1 -1  1  1 -1 -1 -1 -1 -1  1  1 -1 -1\n",
      "  -1 -1 -1  1  1 -1 -1 -1 -1 -1  1  1 -1 -1 -1 -1 -1  1  1  1  1  1  1  1\n",
      "  -1]\n",
      " [ 1  1  1  1  1  1  1  1 -1 -1 -1 -1 -1 -1  1 -1 -1 -1 -1 -1 -1  1  1  1\n",
      "   1  1  1 -1  1 -1 -1 -1 -1 -1 -1  1 -1 -1 -1 -1 -1 -1  1  1  1  1  1  1\n",
      "   1]\n",
      " [ 1  1  1  1  1  1  1 -1 -1 -1  1  1 -1 -1 -1 -1 -1  1  1 -1 -1 -1 -1 -1\n",
      "   1  1 -1 -1 -1 -1 -1  1  1 -1 -1  1 -1 -1  1  1 -1 -1 -1  1  1  1 -1 -1\n",
      "  -1]\n",
      " [ 1 -1 -1 -1 -1 -1  1  1 -1 -1 -1 -1  1 -1  1 -1 -1 -1  1 -1 -1  1  1  1\n",
      "   1 -1 -1 -1  1 -1 -1 -1  1 -1 -1  1 -1 -1 -1 -1  1 -1  1 -1 -1 -1 -1 -1\n",
      "   1]]\n"
     ]
    }
   ],
   "source": [
    "# Read all data\n",
    "file = open(\"data/list_data_latih.txt\", 'r')\n",
    "listDataLatih = file.read()\n",
    "file.close()\n",
    "\n",
    "listDataLatih = listDataLatih.replace(\"\\n\", \",\")\n",
    "arrDataLatih = listDataLatih.split(',')\n",
    "\n",
    "# create data latih in numpy array\n",
    "dataLatih = []\n",
    "for namafile in arrDataLatih:\n",
    "    file = open(\"data/\" + namafile, 'r')\n",
    "    huruf = file.read()\n",
    "    dataLatih.append(huruf2array(huruf))\n",
    "    \n",
    "dataLatih = np.array(dataLatih)\n",
    "print((dataLatih))"
   ]
  },
  {
   "cell_type": "code",
   "execution_count": null,
   "metadata": {},
   "outputs": [],
   "source": []
  },
  {
   "cell_type": "code",
   "execution_count": null,
   "metadata": {},
   "outputs": [],
   "source": []
  }
 ],
 "metadata": {
  "kernelspec": {
   "display_name": "Python 3",
   "language": "python",
   "name": "python3"
  },
  "language_info": {
   "codemirror_mode": {
    "name": "ipython",
    "version": 3
   },
   "file_extension": ".py",
   "mimetype": "text/x-python",
   "name": "python",
   "nbconvert_exporter": "python",
   "pygments_lexer": "ipython3",
   "version": "3.6.5"
  }
 },
 "nbformat": 4,
 "nbformat_minor": 2
}
