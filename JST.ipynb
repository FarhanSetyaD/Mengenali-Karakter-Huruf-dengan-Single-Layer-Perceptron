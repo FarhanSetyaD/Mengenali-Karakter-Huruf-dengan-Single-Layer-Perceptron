{
 "cells": [
  {
   "cell_type": "code",
   "execution_count": 63,
   "metadata": {},
   "outputs": [
    {
     "data": {
      "text/plain": [
       "'Test method huruf2array'"
      ]
     },
     "execution_count": 63,
     "metadata": {},
     "output_type": "execute_result"
    }
   ],
   "source": [
    "import numpy as np\n",
    "\n",
    "def huruf2array(huruf):\n",
    "    huruf=huruf.replace(\"#\",\"1,\")\n",
    "    huruf=huruf.replace(\".\",\"-1,\")\n",
    "    huruf=huruf.replace(\"\\n\",'')\n",
    "    arr = np.fromstring(huruf[:-1],dtype=int,sep=',')\n",
    "    return arr\n",
    "\n",
    "'''Test method huruf2array'''\n",
    "#file = open(\"data/x.txt\", 'r')\n",
    "#x = file.read()\n",
    "#file.close()\n",
    "\n",
    "#huruf2array(x)"
   ]
  },
  {
   "cell_type": "code",
   "execution_count": 64,
   "metadata": {
    "collapsed": true
   },
   "outputs": [],
   "source": [
    "class SLP(object):\n",
    "    def __init__(self,size):\n",
    "        self.weight = np.zeros(size)\n",
    "        self.bias = 0\n",
    "\n",
    "    def train(self,train_data,train_target,alpha,threshold):\n",
    "        stop = False\n",
    "        while stop is False:\n",
    "            stop = True\n",
    "            for data,target in zip(train_data,train_target):\n",
    "                v = np.dot(data,self.weight)+ self.bias\n",
    "                y = self.aktivasi(v,threshold)\n",
    "                if y != target:\n",
    "                    stop = False\n",
    "                    self.weight = self.weight + alpha * target * data\n",
    "                    self.bias = self.bias + alpha *target\n",
    "\n",
    "    def test(self,weight,bias,test_data,threshold):\n",
    "        v = np.dot(test_data,self.weight)+ self.bias\n",
    "        y = self.aktivasi(v,threshold)\n",
    "        return y\n",
    "\n",
    "    def aktivasi(self,x,threshold):\n",
    "        if x>threshold:\n",
    "            return 1\n",
    "        if x < -threshold:\n",
    "            return -1\n",
    "        else:\n",
    "            return 0\n",
    "\n",
    "    def get_weight(self):\n",
    "        return (self.weight,self.bias)"
   ]
  },
  {
   "cell_type": "code",
   "execution_count": 65,
   "metadata": {},
   "outputs": [],
   "source": [
    "# Read all data\n",
    "file = open(\"data/list_data_latih.txt\", 'r')\n",
    "listDataLatih = file.read()\n",
    "file.close()\n",
    "\n",
    "listDataLatih = listDataLatih.replace(\"\\n\", \",\")\n",
    "arrDataLatih = listDataLatih.split(',')\n",
    "\n",
    "# create data latih in numpy array\n",
    "dataLatih = []\n",
    "for namafile in arrDataLatih:\n",
    "    file = open(\"data/\" + namafile, 'r')\n",
    "    huruf = file.read()\n",
    "    dataLatih.append(huruf2array(huruf))\n",
    "    \n",
    "dataLatih = np.array(dataLatih)\n",
    "#print((dataLatih))"
   ]
  },
  {
   "cell_type": "code",
   "execution_count": null,
   "metadata": {
    "collapsed": true
   },
   "outputs": [],
   "source": []
  }
 ],
 "metadata": {
  "kernelspec": {
   "display_name": "Python 3",
   "language": "python",
   "name": "python3"
  },
  "language_info": {
   "codemirror_mode": {
    "name": "ipython",
    "version": 3
   },
   "file_extension": ".py",
   "mimetype": "text/x-python",
   "name": "python",
   "nbconvert_exporter": "python",
   "pygments_lexer": "ipython3",
   "version": "3.6.1"
  }
 },
 "nbformat": 4,
 "nbformat_minor": 2
}
